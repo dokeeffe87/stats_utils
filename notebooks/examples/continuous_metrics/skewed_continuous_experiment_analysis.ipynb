{
 "cells": [
  {
   "cell_type": "markdown",
   "id": "894baad0-63a9-4f01-a326-eb02999825da",
   "metadata": {},
   "source": [
    "This example will demonstrate how to use the randomization inference tools to analyze the results of a two variant A/B test, where the primary metric is continuous (e.g. dollars spent).  We'll first look at an example where the distributions of the continuous metric in both the control and treatment group are nicely behaved.  Here, conventional techniques like a t-test are sufficient.  We'll compare the application of the t-test to the randomization inference results.  \n",
    "\n",
    "In a second example, we'll look at data from an experiment where the outcome metric is heavily skewed by zeros (zero inflated).  In this case, the usual t-test approach is not applicable.  Instead, we'll use the randomization inference tools to look at the experiment results without needing to make any parametric assumptions about our data.  "
   ]
  },
  {
   "cell_type": "code",
   "execution_count": 1,
   "id": "2f0a308a-a5eb-48f6-bb23-a7b0b6e7cca5",
   "metadata": {
    "tags": []
   },
   "outputs": [],
   "source": [
    "import sys\n",
    "import pandas as pd"
   ]
  },
  {
   "cell_type": "code",
   "execution_count": 2,
   "id": "25c4e123-b062-4fdf-8255-c3476f0b6a65",
   "metadata": {
    "tags": []
   },
   "outputs": [],
   "source": [
    "import scipy.stats as stats\n",
    "import numpy as np"
   ]
  },
  {
   "cell_type": "code",
   "execution_count": 3,
   "id": "b0f3fd0d-10f4-496d-84a7-98e768334c55",
   "metadata": {
    "tags": []
   },
   "outputs": [],
   "source": [
    "import matplotlib.pyplot as plt\n",
    "%matplotlib inline\n",
    "import seaborn as sns\n",
    "from matplotlib import style"
   ]
  },
  {
   "cell_type": "code",
   "execution_count": 4,
   "id": "7e650bb0-9973-48e6-97ea-d709c2824409",
   "metadata": {
    "tags": []
   },
   "outputs": [],
   "source": [
    "style.use('fivethirtyeight')"
   ]
  },
  {
   "cell_type": "code",
   "execution_count": 5,
   "id": "c069e65e-7821-4e42-9da1-bde445fd318e",
   "metadata": {
    "tags": []
   },
   "outputs": [],
   "source": [
    "# For now, this is a simple way to import the tools we need.\n",
    "# Be sure to update the path to point to where the relevant code is stored on your machine\n",
    "# TBD on eventually making this importable\n",
    "sys.path.append('../../../ab_testing_utils/')"
   ]
  },
  {
   "cell_type": "code",
   "execution_count": 6,
   "id": "3810fd98-9d42-4c2f-af16-e8c433531ebd",
   "metadata": {
    "tags": []
   },
   "outputs": [],
   "source": [
    "import skewed_metric_utils\n",
    "import sim_utils"
   ]
  },
  {
   "cell_type": "markdown",
   "id": "6984a70e-352d-4492-9129-6823b38e6bb1",
   "metadata": {},
   "source": [
    "### Conventional example\n",
    "\n",
    "First, we need to simulate some data.  We can use some of the pre-built tools in sim_utils.  \n",
    "\n",
    "Here, we'll assume that we're looking at the results of a two variant A/B test.  Furthemore, we'll assume that:\n",
    "\n",
    "1. took place over the course of 3 weeks (3 * 7 = 21 days)  \n",
    "2. On average, we had about 300 eligible units per day that could be assigned to either treatment or control \n",
    "3. The assignment to treatment or control is even. i.e. the probability of being assigned to the control group is 50%\n",
    "4. Our primary metric here is dollars spent per unit\n",
    "5. In the control group, we'll assume that the mean dollars spent per unit is \\\\$1,000.  In the treatment group, we'll assume that the mean is \\\\$1,050, i.e. the treatment really did have a positive impact.  \n",
    "\n",
    "To make this simple, we'll just assume that the dollars spent in each group follows a normal distribution, centered on the mean. This means that the mean dollars spent is an appropriate test statistic here.  "
   ]
  },
  {
   "cell_type": "code",
   "execution_count": 7,
   "id": "c3fcf505-6c22-4706-a7e8-aacde995ab73",
   "metadata": {
    "tags": []
   },
   "outputs": [],
   "source": [
    "daily_num_observations = 300\n",
    "number_of_days_for_experiment = 3 * 7\n",
    "p_vals = \"equal\"\n",
    "group_col = 'group'"
   ]
  },
  {
   "cell_type": "code",
   "execution_count": 8,
   "id": "1aefcf74-21b2-42b5-9336-e6cb810edcbe",
   "metadata": {
    "tags": []
   },
   "outputs": [],
   "source": [
    "simulate_data = sim_utils.SimulateSkewedContinuous()"
   ]
  },
  {
   "cell_type": "code",
   "execution_count": 9,
   "id": "ea899dde-e85a-436d-914a-f524061c1a2b",
   "metadata": {
    "tags": []
   },
   "outputs": [
    {
     "name": "stdout",
     "output_type": "stream",
     "text": [
      "Simulated group sizes: \n",
      "\n",
      "control        0.501124\n",
      "treatment_1    0.498876\n",
      "Name: group, dtype: float64\n",
      "\n",
      "\n",
      "Simulated daily group sizes: \n",
      "\n",
      "day  group      \n",
      "0    control        0.534653\n",
      "     treatment_1    0.465347\n",
      "1    treatment_1    0.509259\n",
      "     control        0.490741\n",
      "10   treatment_1    0.534296\n",
      "     control        0.465704\n",
      "11   treatment_1    0.518519\n",
      "     control        0.481481\n",
      "12   control        0.509158\n",
      "     treatment_1    0.490842\n",
      "13   treatment_1    0.515254\n",
      "     control        0.484746\n",
      "14   control        0.519713\n",
      "     treatment_1    0.480287\n",
      "15   treatment_1    0.500000\n",
      "     control        0.500000\n",
      "16   control        0.510563\n",
      "     treatment_1    0.489437\n",
      "17   treatment_1    0.508251\n",
      "     control        0.491749\n",
      "18   treatment_1    0.503311\n",
      "     control        0.496689\n",
      "19   treatment_1    0.510274\n",
      "     control        0.489726\n",
      "2    control        0.535714\n",
      "     treatment_1    0.464286\n",
      "20   control        0.524138\n",
      "     treatment_1    0.475862\n",
      "3    control        0.517123\n",
      "     treatment_1    0.482877\n",
      "4    treatment_1    0.514599\n",
      "     control        0.485401\n",
      "5    treatment_1    0.511327\n",
      "     control        0.488673\n",
      "6    treatment_1    0.506757\n",
      "     control        0.493243\n",
      "7    control        0.566038\n",
      "     treatment_1    0.433962\n",
      "8    treatment_1    0.514754\n",
      "     control        0.485246\n",
      "9    treatment_1    0.555957\n",
      "     control        0.444043\n",
      "dtype: float64\n",
      "\n",
      "\n"
     ]
    }
   ],
   "source": [
    "df_norm = simulate_data.simulate_skewed_experiment(number_of_days_for_experiment=number_of_days_for_experiment, \n",
    "                                                  daily_num_observations=daily_num_observations,\n",
    "                                                  p_vals=p_vals, \n",
    "                                                  group_col=group_col,\n",
    "                                                  zero_skewed_outcome=False,\n",
    "                                                  loc_params=(1000, 1050),\n",
    "                                                  scale_params=(600, 600))"
   ]
  },
  {
   "cell_type": "code",
   "execution_count": 10,
   "id": "ea9d300b-6d98-47cc-8602-03c11acd5c58",
   "metadata": {
    "tags": []
   },
   "outputs": [
    {
     "data": {
      "text/html": [
       "<div>\n",
       "<style scoped>\n",
       "    .dataframe tbody tr th:only-of-type {\n",
       "        vertical-align: middle;\n",
       "    }\n",
       "\n",
       "    .dataframe tbody tr th {\n",
       "        vertical-align: top;\n",
       "    }\n",
       "\n",
       "    .dataframe thead th {\n",
       "        text-align: right;\n",
       "    }\n",
       "</style>\n",
       "<table border=\"1\" class=\"dataframe\">\n",
       "  <thead>\n",
       "    <tr style=\"text-align: right;\">\n",
       "      <th></th>\n",
       "      <th>day</th>\n",
       "      <th>units</th>\n",
       "      <th>group</th>\n",
       "      <th>outcome</th>\n",
       "    </tr>\n",
       "  </thead>\n",
       "  <tbody>\n",
       "    <tr>\n",
       "      <th>0</th>\n",
       "      <td>0</td>\n",
       "      <td>1</td>\n",
       "      <td>control</td>\n",
       "      <td>1470.039</td>\n",
       "    </tr>\n",
       "    <tr>\n",
       "      <th>1</th>\n",
       "      <td>0</td>\n",
       "      <td>1</td>\n",
       "      <td>control</td>\n",
       "      <td>336.855</td>\n",
       "    </tr>\n",
       "    <tr>\n",
       "      <th>2</th>\n",
       "      <td>0</td>\n",
       "      <td>1</td>\n",
       "      <td>control</td>\n",
       "      <td>532.705</td>\n",
       "    </tr>\n",
       "    <tr>\n",
       "      <th>3</th>\n",
       "      <td>0</td>\n",
       "      <td>1</td>\n",
       "      <td>control</td>\n",
       "      <td>-27.995</td>\n",
       "    </tr>\n",
       "    <tr>\n",
       "      <th>6</th>\n",
       "      <td>0</td>\n",
       "      <td>1</td>\n",
       "      <td>control</td>\n",
       "      <td>1748.734</td>\n",
       "    </tr>\n",
       "  </tbody>\n",
       "</table>\n",
       "</div>"
      ],
      "text/plain": [
       "  day  units    group   outcome\n",
       "0   0      1  control  1470.039\n",
       "1   0      1  control   336.855\n",
       "2   0      1  control   532.705\n",
       "3   0      1  control   -27.995\n",
       "6   0      1  control  1748.734"
      ]
     },
     "execution_count": 10,
     "metadata": {},
     "output_type": "execute_result"
    }
   ],
   "source": [
    "df_norm.head()"
   ]
  },
  {
   "cell_type": "code",
   "execution_count": 11,
   "id": "04338f3f-a20f-4403-bdc5-77204783acec",
   "metadata": {
    "tags": []
   },
   "outputs": [
    {
     "data": {
      "text/plain": [
       "<seaborn.axisgrid.FacetGrid at 0x11ec59340>"
      ]
     },
     "execution_count": 11,
     "metadata": {},
     "output_type": "execute_result"
    },
    {
     "data": {
      "image/png": "[encoded data removed]",
      "text/plain": [
       "<Figure size 689.875x500 with 1 Axes>"
      ]
     },
     "metadata": {},
     "output_type": "display_data"
    }
   ],
   "source": [
    "sns.displot(df_norm, x=\"outcome\", hue=\"group\", kind=\"kde\", fill=True, alpha=0.4)"
   ]
  },
  {
   "cell_type": "code",
   "execution_count": 12,
   "id": "e77da222-30df-4505-aa06-2ac170b38d0b",
   "metadata": {
    "tags": []
   },
   "outputs": [
    {
     "data": {
      "text/html": [
       "<div>\n",
       "<style scoped>\n",
       "    .dataframe tbody tr th:only-of-type {\n",
       "        vertical-align: middle;\n",
       "    }\n",
       "\n",
       "    .dataframe tbody tr th {\n",
       "        vertical-align: top;\n",
       "    }\n",
       "\n",
       "    .dataframe thead th {\n",
       "        text-align: right;\n",
       "    }\n",
       "</style>\n",
       "<table border=\"1\" class=\"dataframe\">\n",
       "  <thead>\n",
       "    <tr style=\"text-align: right;\">\n",
       "      <th></th>\n",
       "      <th>count</th>\n",
       "      <th>mean</th>\n",
       "      <th>std</th>\n",
       "      <th>min</th>\n",
       "      <th>25%</th>\n",
       "      <th>50%</th>\n",
       "      <th>75%</th>\n",
       "      <th>90%</th>\n",
       "      <th>max</th>\n",
       "    </tr>\n",
       "    <tr>\n",
       "      <th>group</th>\n",
       "      <th></th>\n",
       "      <th></th>\n",
       "      <th></th>\n",
       "      <th></th>\n",
       "      <th></th>\n",
       "      <th></th>\n",
       "      <th></th>\n",
       "      <th></th>\n",
       "      <th></th>\n",
       "    </tr>\n",
       "  </thead>\n",
       "  <tbody>\n",
       "    <tr>\n",
       "      <th>control</th>\n",
       "      <td>3120.0</td>\n",
       "      <td>1007.386044</td>\n",
       "      <td>589.161841</td>\n",
       "      <td>-1176.738</td>\n",
       "      <td>609.62500</td>\n",
       "      <td>1001.0715</td>\n",
       "      <td>1412.86750</td>\n",
       "      <td>1756.0639</td>\n",
       "      <td>3103.156</td>\n",
       "    </tr>\n",
       "    <tr>\n",
       "      <th>treatment_1</th>\n",
       "      <td>3106.0</td>\n",
       "      <td>1050.029246</td>\n",
       "      <td>593.839759</td>\n",
       "      <td>-1346.630</td>\n",
       "      <td>652.97075</td>\n",
       "      <td>1032.5085</td>\n",
       "      <td>1437.89575</td>\n",
       "      <td>1806.9725</td>\n",
       "      <td>3164.940</td>\n",
       "    </tr>\n",
       "  </tbody>\n",
       "</table>\n",
       "</div>"
      ],
      "text/plain": [
       "              count         mean         std       min        25%        50%  \\\n",
       "group                                                                          \n",
       "control      3120.0  1007.386044  589.161841 -1176.738  609.62500  1001.0715   \n",
       "treatment_1  3106.0  1050.029246  593.839759 -1346.630  652.97075  1032.5085   \n",
       "\n",
       "                    75%        90%       max  \n",
       "group                                         \n",
       "control      1412.86750  1756.0639  3103.156  \n",
       "treatment_1  1437.89575  1806.9725  3164.940  "
      ]
     },
     "execution_count": 12,
     "metadata": {},
     "output_type": "execute_result"
    }
   ],
   "source": [
    "# So these are nice and simple \n",
    "# This looks about like what we'd expect from the relatively large sample we drew\n",
    "df_norm.groupby('group')['outcome'].describe(percentiles=[0.25, 0.5, 0.75, 0.9])"
   ]
  },
  {
   "cell_type": "code",
   "execution_count": 13,
   "id": "1023656d-df9f-4362-aa8b-e0e145130445",
   "metadata": {
    "tags": []
   },
   "outputs": [
    {
     "data": {
      "text/plain": [
       "Ttest_indResult(statistic=-2.8442036058656903, pvalue=0.004466783648510512)"
      ]
     },
     "execution_count": 13,
     "metadata": {},
     "output_type": "execute_result"
    }
   ],
   "source": [
    "# So what happens if we run a conventional t-test on this?\n",
    "# In this case, we know that the data generating process in both the treatment and control groups have the same variance.  In general though, we won't know this, so we won't assume it\n",
    "stats.ttest_ind(a=df_norm.query(\"group=='control'\")['outcome'], b=df_norm.query(\"group=='treatment_1'\")['outcome'], equal_var=False)"
   ]
  },
  {
   "cell_type": "code",
   "execution_count": 14,
   "id": "754ebdce-d813-4371-9a2a-4e059ce55c4a",
   "metadata": {
    "tags": []
   },
   "outputs": [],
   "source": [
    "# So the t-test (correctly) indicates a statistically significant difference in the means between the two groups.  \n",
    "# In this case, the treatment mean is statistically significantly larger than the control group mean"
   ]
  },
  {
   "cell_type": "code",
   "execution_count": 15,
   "id": "5c1a1a8d-5383-45d9-be98-952e319c7d6b",
   "metadata": {
    "tags": []
   },
   "outputs": [],
   "source": [
    "# How about if we did the same thing with randomization inference? \n",
    "test_mean_difference_normal_dist = skewed_metric_utils.RandomizationInference()"
   ]
  },
  {
   "cell_type": "code",
   "execution_count": 16,
   "id": "71bfebb1-53cc-487f-99c3-718a94c19163",
   "metadata": {
    "tags": []
   },
   "outputs": [
    {
     "name": "stdout",
     "output_type": "stream",
     "text": [
      "Running randomization inference...\n"
     ]
    },
    {
     "data": {
      "application/vnd.jupyter.widget-view+json": {
       "model_id": "402518f233834542981861af13077696",
       "version_major": 2,
       "version_minor": 0
      },
      "text/plain": [
       "  0%|          | 0/1000 [00:00<?, ?it/s]"
      ]
     },
     "metadata": {},
     "output_type": "display_data"
    },
    {
     "data": {
      "image/png": "[encoded data removed]",
      "text/plain": [
       "<Figure size 1000x800 with 1 Axes>"
      ]
     },
     "metadata": {},
     "output_type": "display_data"
    }
   ],
   "source": [
    "test_mean_difference_normal_dist.experimental_analysis(df=df_norm, \n",
    "                                                       outcome_column_name='outcome', \n",
    "                                                       treatment_column_name='group', \n",
    "                                                       treatment_name='treatment_1', \n",
    "                                                       control_name='control', \n",
    "                                                       sample_with_replacement=True)"
   ]
  },
  {
   "cell_type": "code",
   "execution_count": 24,
   "id": "0de4b0fb-3f34-4f9f-a52a-83e869e9fde8",
   "metadata": {},
   "outputs": [],
   "source": [
    "# So the conclusion is the same. \n",
    "# This is not surprising as this is a highly contrived example"
   ]
  },
  {
   "cell_type": "markdown",
   "id": "c481977f-9910-47cd-bf02-1822fd7939b8",
   "metadata": {},
   "source": [
    "### Zero inflated example\n",
    "\n",
    "In this example, we'll make the same 5 assumptions as we did in the previous example.  However, this time around, we'll assume that the dollars spent in each group comes from a highly skewed distribution, biased towards zero.  This would be the case if most people actually don't spend anything at all. \n",
    "\n",
    "\n",
    "\n",
    "\n",
    "\n",
    "# REMOVE THIS \n",
    "\n",
    "\n",
    "First, we need to simulate some data.  We can use some of the pre-built tools in sim_utils.  \n",
    "\n",
    "Here, we'll assume that we're looking at the results of a two variant A/B test.  Furthemore, we'll assume that:\n",
    "\n",
    "1. took place over the course of 3 weeks (3 * 7 = 21 days)  \n",
    "2. On average, we had about 300 eligible units per day that could be assigned to either treatment or control \n",
    "3. The assignment to treatment or control is even. i.e. the probability of being assigned to the control group is 50%\n",
    "4. Our primary metric here is dollars spent per unit\n",
    "5. In the control group, we'll assume that the mean dollars spent per unit is \\\\$1,000.  In the treatment group, we'll assume that the mean is \\\\$1,050, i.e. the treatment really did have a positive impact.  \n",
    "\n",
    "To make this simple, we'll just assume that the dollars spent in each group follows a normal distribution, centered on the mean. This means that the mean dollars spent is an appropriate test statistic here.  "
   ]
  },
  {
   "cell_type": "code",
   "execution_count": 25,
   "id": "40aa03ee-3c81-4780-af1d-54dcccddc059",
   "metadata": {
    "tags": []
   },
   "outputs": [],
   "source": [
    "daily_num_observations = 300\n",
    "number_of_days_for_experiment = 3 * 7\n",
    "p_vals = \"equal\"\n",
    "group_col = 'group'"
   ]
  },
  {
   "cell_type": "code",
   "execution_count": 26,
   "id": "7a71dde0-d50b-4916-9f2d-0895f5e50eee",
   "metadata": {
    "tags": []
   },
   "outputs": [],
   "source": [
    "simulate_data = sim_utils.SimulateSkewedContinuous()"
   ]
  },
  {
   "cell_type": "code",
   "execution_count": 30,
   "id": "915eb51a-a045-4f9d-bf86-3c5ff68c9940",
   "metadata": {
    "tags": []
   },
   "outputs": [
    {
     "name": "stdout",
     "output_type": "stream",
     "text": [
      "Simulated group sizes: \n",
      "\n",
      "treatment_1    0.505016\n",
      "control        0.494984\n",
      "Name: group, dtype: float64\n",
      "\n",
      "\n",
      "Simulated daily group sizes: \n",
      "\n",
      "day  group      \n",
      "0    control        0.505155\n",
      "     treatment_1    0.494845\n",
      "1    control        0.511475\n",
      "     treatment_1    0.488525\n",
      "10   control        0.500000\n",
      "     treatment_1    0.500000\n",
      "11   treatment_1    0.559486\n",
      "     control        0.440514\n",
      "12   treatment_1    0.512821\n",
      "     control        0.487179\n",
      "13   treatment_1    0.511111\n",
      "     control        0.488889\n",
      "14   control        0.531773\n",
      "     treatment_1    0.468227\n",
      "15   treatment_1    0.520913\n",
      "     control        0.479087\n",
      "16   control        0.521886\n",
      "     treatment_1    0.478114\n",
      "17   treatment_1    0.511041\n",
      "     control        0.488959\n",
      "18   control        0.508897\n",
      "     treatment_1    0.491103\n",
      "19   control        0.501577\n",
      "     treatment_1    0.498423\n",
      "2    treatment_1    0.516556\n",
      "     control        0.483444\n",
      "20   treatment_1    0.536184\n",
      "     control        0.463816\n",
      "3    treatment_1    0.518868\n",
      "     control        0.481132\n",
      "4    treatment_1    0.501577\n",
      "     control        0.498423\n",
      "5    control        0.515152\n",
      "     treatment_1    0.484848\n",
      "6    treatment_1    0.528814\n",
      "     control        0.471186\n",
      "7    control        0.504587\n",
      "     treatment_1    0.495413\n",
      "8    control        0.508532\n",
      "     treatment_1    0.491468\n",
      "9    control        0.504644\n",
      "     treatment_1    0.495356\n",
      "dtype: float64\n",
      "\n",
      "\n"
     ]
    },
    {
     "ename": "SyntaxError",
     "evalue": "EOL while scanning string literal (<unknown>, line 1)",
     "output_type": "error",
     "traceback": [
      "Traceback \u001b[0;36m(most recent call last)\u001b[0m:\n",
      "\u001b[0m  File \u001b[1;32m~/opt/miniconda3/envs/causal_ml_py39/lib/python3.9/site-packages/IPython/core/interactiveshell.py:3442\u001b[0m in \u001b[1;35mrun_code\u001b[0m\n    exec(code_obj, self.user_global_ns, self.user_ns)\u001b[0m\n",
      "\u001b[0m  Cell \u001b[1;32mIn[30], line 1\u001b[0m\n    df_skewed = simulate_data.simulate_skewed_experiment(number_of_days_for_experiment=number_of_days_for_experiment,\u001b[0m\n",
      "\u001b[0m  File \u001b[1;32m~/Documents/src/stats_utils/stats_utils/notebooks/examples/continuous_metrics/../../../ab_testing_utils/sim_utils.py:232\u001b[0m in \u001b[1;35msimulate_skewed_experiment\u001b[0m\n    df_ = self.simulate_zero_skewed_outcomes(df=df_exp.query(\"@group_col=='{0}\".format(g_)),\u001b[0m\n",
      "\u001b[0m  File \u001b[1;32m~/opt/miniconda3/envs/causal_ml_py39/lib/python3.9/site-packages/pandas/util/_decorators.py:331\u001b[0m in \u001b[1;35mwrapper\u001b[0m\n    return func(*args, **kwargs)\u001b[0m\n",
      "\u001b[0m  File \u001b[1;32m~/opt/miniconda3/envs/causal_ml_py39/lib/python3.9/site-packages/pandas/core/frame.py:4474\u001b[0m in \u001b[1;35mquery\u001b[0m\n    res = self.eval(expr, **kwargs)\u001b[0m\n",
      "\u001b[0m  File \u001b[1;32m~/opt/miniconda3/envs/causal_ml_py39/lib/python3.9/site-packages/pandas/util/_decorators.py:331\u001b[0m in \u001b[1;35mwrapper\u001b[0m\n    return func(*args, **kwargs)\u001b[0m\n",
      "\u001b[0m  File \u001b[1;32m~/opt/miniconda3/envs/causal_ml_py39/lib/python3.9/site-packages/pandas/core/frame.py:4612\u001b[0m in \u001b[1;35meval\u001b[0m\n    return _eval(expr, inplace=inplace, **kwargs)\u001b[0m\n",
      "\u001b[0m  File \u001b[1;32m~/opt/miniconda3/envs/causal_ml_py39/lib/python3.9/site-packages/pandas/core/computation/eval.py:353\u001b[0m in \u001b[1;35meval\u001b[0m\n    parsed_expr = Expr(expr, engine=engine, parser=parser, env=env)\u001b[0m\n",
      "\u001b[0m  File \u001b[1;32m~/opt/miniconda3/envs/causal_ml_py39/lib/python3.9/site-packages/pandas/core/computation/expr.py:813\u001b[0m in \u001b[1;35m__init__\u001b[0m\n    self.terms = self.parse()\u001b[0m\n",
      "\u001b[0m  File \u001b[1;32m~/opt/miniconda3/envs/causal_ml_py39/lib/python3.9/site-packages/pandas/core/computation/expr.py:832\u001b[0m in \u001b[1;35mparse\u001b[0m\n    return self._visitor.visit(self.expr)\u001b[0m\n",
      "\u001b[0m  File \u001b[1;32m~/opt/miniconda3/envs/causal_ml_py39/lib/python3.9/site-packages/pandas/core/computation/expr.py:411\u001b[0m in \u001b[1;35mvisit\u001b[0m\n    raise e\u001b[0m\n",
      "\u001b[0m  File \u001b[1;32m~/opt/miniconda3/envs/causal_ml_py39/lib/python3.9/site-packages/pandas/core/computation/expr.py:407\u001b[0m in \u001b[1;35mvisit\u001b[0m\n    node = ast.fix_missing_locations(ast.parse(clean))\u001b[0m\n",
      "\u001b[0;36m  File \u001b[0;32m~/opt/miniconda3/envs/causal_ml_py39/lib/python3.9/ast.py:50\u001b[0;36m in \u001b[0;35mparse\u001b[0;36m\n\u001b[0;31m    return compile(source, filename, mode, flags,\u001b[0;36m\n",
      "\u001b[0;36m  File \u001b[0;32m<unknown>:1\u001b[0;36m\u001b[0m\n\u001b[0;31m    __pd_eval_local_group_col =='control\u001b[0m\n\u001b[0m                                         ^\u001b[0m\n\u001b[0;31mSyntaxError\u001b[0m\u001b[0;31m:\u001b[0m EOL while scanning string literal\n"
     ]
    }
   ],
   "source": [
    "df_skewed = simulate_data.simulate_skewed_experiment(number_of_days_for_experiment=number_of_days_for_experiment, \n",
    "                                                     daily_num_observations=daily_num_observations,\n",
    "                                                     p_vals=p_vals, \n",
    "                                                     group_col=group_col,\n",
    "                                                     zero_skewed_outcome=True)"
   ]
  },
  {
   "cell_type": "code",
   "execution_count": null,
   "id": "973094d1-0283-4068-b354-34285c8215ba",
   "metadata": {},
   "outputs": [],
   "source": []
  },
  {
   "cell_type": "code",
   "execution_count": null,
   "id": "4625c25e-bbf4-485b-bdbc-b4ce3ecd1a65",
   "metadata": {},
   "outputs": [],
   "source": []
  },
  {
   "cell_type": "code",
   "execution_count": 27,
   "id": "29e7d9c5-34ee-495b-b5bc-254fc0afe21c",
   "metadata": {
    "tags": []
   },
   "outputs": [],
   "source": [
    "df_sim = simulate_data.simulate_expected_daily_visitors(number_of_days_for_experiment=number_of_days_for_experiment, daily_num_observations=daily_num_observations)"
   ]
  },
  {
   "cell_type": "code",
   "execution_count": 28,
   "id": "6c5f5950-8d3c-4801-94cf-55318ce01a69",
   "metadata": {
    "tags": []
   },
   "outputs": [],
   "source": [
    "df_sim = simulate_data.assign_randomly(df=df_sim, p_vals=p_vals, group_col=group_col)"
   ]
  },
  {
   "cell_type": "code",
   "execution_count": 29,
   "id": "7cbf35d4-2176-45b7-9d19-099a513fc117",
   "metadata": {
    "tags": []
   },
   "outputs": [
    {
     "data": {
      "text/html": [
       "<div>\n",
       "<style scoped>\n",
       "    .dataframe tbody tr th:only-of-type {\n",
       "        vertical-align: middle;\n",
       "    }\n",
       "\n",
       "    .dataframe tbody tr th {\n",
       "        vertical-align: top;\n",
       "    }\n",
       "\n",
       "    .dataframe thead th {\n",
       "        text-align: right;\n",
       "    }\n",
       "</style>\n",
       "<table border=\"1\" class=\"dataframe\">\n",
       "  <thead>\n",
       "    <tr style=\"text-align: right;\">\n",
       "      <th></th>\n",
       "      <th>day</th>\n",
       "      <th>units</th>\n",
       "      <th>group</th>\n",
       "    </tr>\n",
       "  </thead>\n",
       "  <tbody>\n",
       "    <tr>\n",
       "      <th>0</th>\n",
       "      <td>0</td>\n",
       "      <td>1</td>\n",
       "      <td>treatment_1</td>\n",
       "    </tr>\n",
       "    <tr>\n",
       "      <th>1</th>\n",
       "      <td>0</td>\n",
       "      <td>1</td>\n",
       "      <td>control</td>\n",
       "    </tr>\n",
       "    <tr>\n",
       "      <th>2</th>\n",
       "      <td>0</td>\n",
       "      <td>1</td>\n",
       "      <td>control</td>\n",
       "    </tr>\n",
       "    <tr>\n",
       "      <th>3</th>\n",
       "      <td>0</td>\n",
       "      <td>1</td>\n",
       "      <td>control</td>\n",
       "    </tr>\n",
       "    <tr>\n",
       "      <th>4</th>\n",
       "      <td>0</td>\n",
       "      <td>1</td>\n",
       "      <td>treatment_1</td>\n",
       "    </tr>\n",
       "  </tbody>\n",
       "</table>\n",
       "</div>"
      ],
      "text/plain": [
       "  day  units        group\n",
       "0   0      1  treatment_1\n",
       "1   0      1      control\n",
       "2   0      1      control\n",
       "3   0      1      control\n",
       "4   0      1  treatment_1"
      ]
     },
     "execution_count": 29,
     "metadata": {},
     "output_type": "execute_result"
    }
   ],
   "source": [
    "df_sim.head()"
   ]
  },
  {
   "cell_type": "code",
   "execution_count": null,
   "id": "0c339bac-092c-4590-bee5-e0e752ec718f",
   "metadata": {},
   "outputs": [],
   "source": [
    "df_control = simulate_data.simulate_(df=df_sim.query(\"group=='control'\"), loc=1000, scale=600)\n",
    "df_treatment = simulate_data.simulate_normal_distributed_outcomes(df=df_sim.query(\"group=='treatment_1'\"), loc=1050, scale=600)"
   ]
  }
 ],
 "metadata": {
  "kernelspec": {
   "display_name": "Python [conda env:causal_ml_py39] *",
   "language": "python",
   "name": "conda-env-causal_ml_py39-py"
  },
  "language_info": {
   "codemirror_mode": {
    "name": "ipython",
    "version": 3
   },
   "file_extension": ".py",
   "mimetype": "text/x-python",
   "name": "python",
   "nbconvert_exporter": "python",
   "pygments_lexer": "ipython3",
   "version": "3.9.15"
  }
 },
 "nbformat": 4,
 "nbformat_minor": 5
}
